{
 "cells": [
  {
   "cell_type": "markdown",
   "metadata": {
    "tags": []
   },
   "source": [
    "# Plotting N-D data\n",
    "\n",
    "Data with any number of dimensions can also be plotted in Scipp."
   ]
  },
  {
   "cell_type": "code",
   "execution_count": null,
   "metadata": {},
   "outputs": [],
   "source": [
    "import numpy as np\n",
    "import scipp as sc"
   ]
  },
  {
   "cell_type": "markdown",
   "metadata": {
    "tags": []
   },
   "source": [
    "## Default representation\n",
    "\n",
    "Data with 3 or more dimensions are by default represented by a 2-D image, accompanied by sliders to navigate the extra dimensions (one slider per dimension above 2)."
   ]
  },
  {
   "cell_type": "code",
   "execution_count": null,
   "metadata": {},
   "outputs": [],
   "source": [
    "N = 50\n",
    "M = 40\n",
    "L = 30\n",
    "K = 20\n",
    "xx = np.arange(N, dtype=np.float64)\n",
    "yy = np.arange(M, dtype=np.float64)\n",
    "zz = np.arange(L, dtype=np.float64)\n",
    "qq = np.arange(K, dtype=np.float64)\n",
    "x, y, z, q = np.meshgrid(xx, yy, zz, qq, indexing='ij')\n",
    "b = N/20.0\n",
    "c = M/2.0\n",
    "d = L/2.0\n",
    "r = np.sqrt(((x-c)/b)**2 + ((y-c)/b)**2 + ((z-d)/b)**2  + ((q-d)/b)**2)\n",
    "a = np.sin(r)\n",
    "d = sc.Dataset()\n",
    "d['Some4Ddata'] = sc.Variable(['x', 'y', 'z', 'Q_x'], values=a)\n",
    "d.coords['x'] = sc.Variable(['x'], values=xx)\n",
    "d.coords['y'] = sc.Variable(['y'], values=yy)\n",
    "d.coords['z'] = sc.Variable(['z'], values=zz)\n",
    "d.coords['Q_x'] = sc.Variable(['Q_x'], values=qq)\n",
    "sc.plot(d)"
   ]
  },
  {
   "cell_type": "markdown",
   "metadata": {
    "tags": []
   },
   "source": [
    "### Slider controls\n",
    "\n",
    "- Each dimension comes with two sliders to control the position of the slice and its thickness.\n",
    "\n",
    "- Upon figure creation, the thickness is set to the first bin width.\n",
    "Only the data contained in that bin is displayed.\n",
    "The thickness can be increased by an integer number of bins, and the data inside those bins will either be summed or averaged (see note below).\n",
    "\n",
    "- Changing the slice thickness will also change the color range, and the `Rescale` button can be used to automatically rescale the colorbar to the limits of the currently displayed data.\n",
    "\n",
    "- Each dimension control comes with a `Continuous Update` checkbox, which is applied by default.\n",
    "If this is unselected, the plot will only update once the slider has been released.\n",
    "\n",
    "<div class=\"alert alert-info\">\n",
    "\n",
    "*Note*\n",
    "    \n",
    "You can automatically recalculate the intensity range using the `Rescale` button on the left of the plot.\n",
    "When zooming or changing thickness, the enclosed viewed region is used to calculate the new intensities.\n",
    "In the general case the intensities are calculated as the `mean` of the values within.\n",
    "\n",
    "**In the special case of your variable having units of counts, the intensities are summed.**\n",
    "    \n",
    "</div>\n",
    "\n",
    "### Changing axes dimensions\n",
    "\n",
    "By default, the two innermost dimensions are used for the image, and the rest will be allocated to a slider.\n",
    "This can be changed, either interactively using the buttons, or by specifying the order of the axes in the `plot` command:"
   ]
  },
  {
   "cell_type": "code",
   "execution_count": null,
   "metadata": {},
   "outputs": [],
   "source": [
    "sc.plot(d, axes={'x': 'x', 'y': 'Q_x'})"
   ]
  },
  {
   "cell_type": "markdown",
   "metadata": {
    "tags": []
   },
   "source": [
    "### Profile picking\n",
    "\n",
    "Finally, each dimension also comes with a `Profile` button which allows to display one of the additional dimensions as a profile underneath the main plot.\n",
    "\n",
    "- When hovering the mouse over the top image, the profile below is updated according to the mouse position.\n",
    "- Clicking on the image will save the current profile with a random color.\n",
    "- Clicking on an existing marker on the image will delete the corresponding saved profile."
   ]
  },
  {
   "cell_type": "markdown",
   "metadata": {
    "tags": []
   },
   "source": [
    "## 3D visualization"
   ]
  },
  {
   "cell_type": "markdown",
   "metadata": {
    "tags": []
   },
   "source": [
    "<div class=\"alert alert-info\">\n",
    "\n",
    "**Note**\n",
    "\n",
    "3D visualization requires `pythreejs` to be installed. Use either `pip` or `conda`:\n",
    "```\n",
    "- conda install -c conda-forge pythreejs\n",
    "- pip install pythreejs\n",
    "```\n",
    "\n",
    "</div>"
   ]
  },
  {
   "cell_type": "markdown",
   "metadata": {
    "tags": []
   },
   "source": [
    "It is also possible to use a 3d projection with `projection=\"3d\"`.\n",
    "If the data is a dense 3(+)D data array, a mesh of points filling the space will be created:"
   ]
  },
  {
   "cell_type": "code",
   "execution_count": null,
   "metadata": {},
   "outputs": [],
   "source": [
    "sc.plot(d, projection='3d')"
   ]
  },
  {
   "cell_type": "markdown",
   "metadata": {
    "tags": []
   },
   "source": [
    "You can adjust opacities and create a cut surface to slice your data in 3D using the control buttons below the scene. When using a cut surface, the upper value of the opacity slider controls the opacity of the slice, while the lower value of the slider controls the opacity of the background.\n",
    "\n",
    "The 3D projection will also accept a dataset that contains position vectors.\n",
    "To use these vectors as positions to generate a 3D scatter plot, use the `positions` keyword argument:"
   ]
  },
  {
   "cell_type": "code",
   "execution_count": null,
   "metadata": {},
   "outputs": [],
   "source": [
    "N = 1000\n",
    "M = 100\n",
    "theta = np.random.random(N) * np.pi\n",
    "phi = np.random.random(N) * 2.0 * np.pi\n",
    "r = 10.0 + (np.random.random(N) - 0.5)\n",
    "x = r * np.sin(theta) * np.sin(phi)\n",
    "y = r * np.sin(theta) * np.cos(phi)\n",
    "z = r * np.cos(theta)\n",
    "\n",
    "tof = np.arange(M).astype(np.float)\n",
    "a = np.arange(M*N).reshape([M, N]) * np.sin(y)\n",
    "d2 = sc.Dataset()\n",
    "d2['a'] = sc.Variable(['tof', 'xyz'], values=a)\n",
    "d2.coords['xyz'] = sc.Variable(['xyz'], values=np.array([x, y, z]).T,\n",
    "                               dtype=sc.dtype.vector_3_float64)\n",
    "d2.coords['tof'] = sc.Variable(['tof'], values=tof)\n",
    "sc.plot(d2, projection=\"3d\", positions=\"xyz\")"
   ]
  },
  {
   "cell_type": "markdown",
   "metadata": {
    "tags": []
   },
   "source": [
    "## LAMP's Superplot\n",
    "A `1d` projection is also available for multi-dimensional data, with the possibility to keep/remove lines that are plotted, a behavior we copied from LAMP's [Superplot](https://github.com/mantidproject/documents/blob/master/Requirements/Visualisation_and_Analysis/superplot.md) which was very popular in the neutron physics community."
   ]
  },
  {
   "cell_type": "code",
   "execution_count": null,
   "metadata": {},
   "outputs": [],
   "source": [
    "sc.plot(d, projection='1d')"
   ]
  }
 ],
 "metadata": {
  "kernelspec": {
   "display_name": "Python 3",
   "language": "python",
   "name": "python3"
  },
  "language_info": {
   "codemirror_mode": {
    "name": "ipython",
    "version": 3
   },
   "file_extension": ".py",
   "mimetype": "text/x-python",
   "name": "python",
   "nbconvert_exporter": "python",
   "pygments_lexer": "ipython3",
   "version": "3.7.10"
  },
  "widgets": ""
 },
 "nbformat": 4,
 "nbformat_minor": 4
}
