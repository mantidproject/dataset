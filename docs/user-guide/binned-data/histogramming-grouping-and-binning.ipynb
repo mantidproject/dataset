{
 "cells": [
  {
   "cell_type": "markdown",
   "metadata": {
    "tags": []
   },
   "source": [
    "# Histogramming, grouping, and binning\n",
    "\n",
    "## Overview\n",
    "\n",
    "Histogramming (see [sc.histogram](../../generated/scipp.histogram.rst#scipp.histogram)), grouping (using [sc.groupby](../groupby.ipynb)), and binning (see [Binned data](binned-data.ipynb)) all serve similar but slightly different purposes.\n",
    "Picking the optimal one of the three for a particular application may yield more natural code and better performance.\n",
    "Let us start by an example.\n",
    "Consider a table of scattered measurements:"
   ]
  },
  {
   "cell_type": "code",
   "execution_count": null,
   "metadata": {},
   "outputs": [],
   "source": [
    "import numpy as np\n",
    "import scipp as sc\n",
    "N = 5000\n",
    "values = 10*np.random.rand(N)\n",
    "data = sc.DataArray(\n",
    "    data=sc.Variable(dims=['position'], unit=sc.units.counts, values=values, variances=values),\n",
    "    coords={\n",
    "        'x':sc.Variable(dims=['position'], unit=sc.units.m, values=np.random.rand(N)),\n",
    "        'y':sc.Variable(dims=['position'], unit=sc.units.m, values=np.random.rand(N))\n",
    "    })\n",
    "data.values *= 1.0/np.exp(5.0*data.coords['x'].values)\n",
    "sc.table(data['position', :5])"
   ]
  },
  {
   "cell_type": "markdown",
   "metadata": {
    "tags": []
   },
   "source": [
    "We may now be interested in the total intensity (counts) as a function of `'x'`.\n",
    "There are three ways to do this:"
   ]
  },
  {
   "cell_type": "code",
   "execution_count": null,
   "metadata": {},
   "outputs": [],
   "source": [
    "xbins = sc.Variable(dims=['x'], unit=sc.units.m, values=np.linspace(0,1,num=40))\n",
    "ds = sc.Dataset()\n",
    "ds['histogram'] = sc.histogram(data, xbins)\n",
    "ds['groupby']   = sc.groupby(data, group='x', bins=xbins).sum('position')\n",
    "ds['bin']       = sc.bin(data, edges=[xbins]).bins.sum()\n",
    "sc.plot(ds)"
   ]
  },
  {
   "cell_type": "markdown",
   "metadata": {
    "tags": []
   },
   "source": [
    "In the above plot we can only see a single line, since the three solutions yield exactly the same result (neglecting floating-point rounding errors):\n",
    "\n",
    "- `histogram` sorts data points into 'x' bins, summing immediately.\n",
    "- `groupby` groups by 'x' and then sums (on-the-fly) all data points falling in the same 'x' bin.\n",
    "- `bin` sorts data points into 'x' bins.\n",
    "  Summing all rows in a bin yields the same result as grouping and summing directly.\n",
    "\n",
    "So in this case we get equivalent results, but the application areas differ, as described in more detail in the following sections.\n",
    "\n",
    "## Histogramming\n",
    "\n",
    "`histogram` directly sums the data and is efficient.\n",
    "Limitations are:\n",
    "\n",
    "- Can currently only histogram along a single dimension.\n",
    "- Can currently only apply the \"sum\" to accumulate into a bin.\n",
    "  Support for more operatinos, such as \"mean\", is considered for the future.\n",
    "  \n",
    "While histogramming is only supported along a single dimension, we *can* histogram binned data (since [binning](#Binning) preserves the `'y'` coord), to create 2-D (or N-D) histograms:"
   ]
  },
  {
   "cell_type": "code",
   "execution_count": null,
   "metadata": {},
   "outputs": [],
   "source": [
    "binned = sc.bin(data, edges=[xbins])\n",
    "ybins = sc.Variable(dims=['y'], unit=sc.units.m, values=np.linspace(0,1,num=30))\n",
    "hist = sc.histogram(binned, ybins)\n",
    "sc.plot(hist)"
   ]
  },
  {
   "cell_type": "code",
   "execution_count": null,
   "metadata": {},
   "outputs": [],
   "source": [
    "hist"
   ]
  },
  {
   "cell_type": "markdown",
   "metadata": {
    "tags": []
   },
   "source": [
    "Another capability of `histogram` is to histogram a dimension that has previously been binned with a different or higher resolution, i.e. different bin edges.\n",
    "Compare to the plot of the initial example:"
   ]
  },
  {
   "cell_type": "code",
   "execution_count": null,
   "metadata": {},
   "outputs": [],
   "source": [
    "binned = sc.bin(data, edges=[xbins])\n",
    "xbins_fine = sc.Variable(dims=['x'], unit=sc.units.m, values=np.linspace(0,1,num=100))\n",
    "sc.plot(sc.histogram(binned, xbins_fine))"
   ]
  },
  {
   "cell_type": "markdown",
   "metadata": {
    "tags": []
   },
   "source": [
    "## Grouping\n",
    "\n",
    "`groupby` is more flexible in terms of operations than can be applied and may be the go-to solution when a quick one-liner is required.\n",
    "Limitations are:\n",
    "\n",
    "- Can only group along a single dimension.\n",
    "- Works best for small to medium-sized data, or if data is already mostly sorted along the grouping dimension.\n",
    "  Slow if millions of small input slices contribute to each group.\n",
    "  \n",
    "`groupby` can also operate on binned data, combining bin contents by concatenation:"
   ]
  },
  {
   "cell_type": "code",
   "execution_count": null,
   "metadata": {},
   "outputs": [],
   "source": [
    "binned = sc.bin(data, edges=[xbins])\n",
    "binned.coords['param'] = sc.Variable(dims=['x'], values=(np.random.random(39)*4).astype(np.int32))\n",
    "grouped = sc.groupby(binned, 'param').bins.concatenate('x')\n",
    "grouped"
   ]
  },
  {
   "cell_type": "markdown",
   "metadata": {
    "tags": []
   },
   "source": [
    "Each output bin is a combination of multiple input bins:"
   ]
  },
  {
   "cell_type": "code",
   "execution_count": null,
   "metadata": {},
   "outputs": [],
   "source": [
    "grouped.values[0]"
   ]
  },
  {
   "cell_type": "markdown",
   "metadata": {
    "tags": []
   },
   "source": [
    "## Binning\n",
    "  \n",
    "`bin` actually reorders data and meta data such that all data contributing to a bin is in a contiguous block.\n",
    "Binning along multiple dimensions is supported.\n",
    "Of the three options it is the only solution that supports *modifying* data in the grouped/binned layout.\n",
    "A variety of operations on such binned data is available.\n",
    "Limitations are:\n",
    "\n",
    "- Requires copying and reordering the input data and can thus become expensive.\n",
    "  \n",
    "In the above example the `'y'` information is dropped by `histogram` and `groupby`, but `bin` preserves it:"
   ]
  },
  {
   "cell_type": "code",
   "execution_count": null,
   "metadata": {},
   "outputs": [],
   "source": [
    "binned = sc.bin(data, edges=[xbins])\n",
    "binned.values[0]"
   ]
  },
  {
   "cell_type": "markdown",
   "metadata": {
    "tags": []
   },
   "source": [
    "If we omit the call to `bins.sum` in the original example, we can subsequently apply another [histogramming](#Histogramming) or binning operation to the data:"
   ]
  },
  {
   "cell_type": "code",
   "execution_count": null,
   "metadata": {},
   "outputs": [],
   "source": [
    "binned = sc.bin(binned, edges=[ybins])\n",
    "binned"
   ]
  },
  {
   "cell_type": "markdown",
   "metadata": {
    "tags": []
   },
   "source": [
    "As in the 1-D example above, summing the bins is equivalent to histogramming binned data:"
   ]
  },
  {
   "cell_type": "code",
   "execution_count": null,
   "metadata": {},
   "outputs": [],
   "source": [
    "sc.plot(binned.bins.sum())"
   ]
  }
 ],
 "metadata": {
  "kernelspec": {
   "display_name": "Python 3",
   "language": "python",
   "name": "python3"
  },
  "language_info": {
   "codemirror_mode": {
    "name": "ipython",
    "version": 3
   },
   "file_extension": ".py",
   "mimetype": "text/x-python",
   "name": "python",
   "nbconvert_exporter": "python",
   "pygments_lexer": "ipython3",
   "version": "3.7.7"
  },
  "widgets": ""
 },
 "nbformat": 4,
 "nbformat_minor": 4
}
