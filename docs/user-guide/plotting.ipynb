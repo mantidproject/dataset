{
 "cells": [
  {
   "cell_type": "markdown",
   "metadata": {},
   "source": [
    "# Plotting\n",
    "`scipp` offers a number of different ways to plot data from a `DataArray` or a `Dataset`."
   ]
  },
  {
   "cell_type": "code",
   "execution_count": null,
   "metadata": {},
   "outputs": [],
   "source": [
    "import numpy as np\n",
    "import scipp as sc\n",
    "from scipp import Dim"
   ]
  },
  {
   "cell_type": "markdown",
   "metadata": {},
   "source": [
    "There are currently two different backends for plotting. The default uses the `plotly` package to render interactive graphs, well suited to `jupyter` notebooks, while the second employs the more classical and widespread `matplotlib` library.\n",
    "\n",
    "Here we switch to the `matplotlib` backend, as it `plotly` currently does not work for the documentation pages on `ReadTheDocs`."
   ]
  },
  {
   "cell_type": "code",
   "execution_count": null,
   "metadata": {},
   "outputs": [],
   "source": [
    "sc.plot_config.backend = \"matplotlib\""
   ]
  },
  {
   "cell_type": "markdown",
   "metadata": {},
   "source": [
    "## Plotting 1-D data\n",
    "\n",
    "### 1-D line plot\n",
    "\n",
    "Plotting is done using the `scipp.plot` function.\n",
    "Generally the information in a dataset is sufficient to produce a useful plot out of the box.\n",
    "\n",
    "For example, a simple line plot is produced as follows:"
   ]
  },
  {
   "cell_type": "code",
   "execution_count": null,
   "metadata": {},
   "outputs": [],
   "source": [
    "d = sc.Dataset()\n",
    "N = 50\n",
    "d.coords[Dim.Tof] = sc.Variable([Dim.Tof], values=np.arange(N).astype(np.float64),\n",
    "                                unit=sc.units.us)\n",
    "d['Sample'] = sc.Variable([Dim.Tof], values=10.0*np.random.rand(N),\n",
    "                          unit=sc.units.counts)\n",
    "sc.plot(d)"
   ]
  },
  {
   "cell_type": "markdown",
   "metadata": {},
   "source": [
    "### 1D line plot with error bars\n",
    "\n",
    "Error bars are shown automatically if variances are present in the data:"
   ]
  },
  {
   "cell_type": "code",
   "execution_count": null,
   "metadata": {},
   "outputs": [],
   "source": [
    "d['Sample'].variances = np.square(np.random.rand(N))\n",
    "sc.plot(d)"
   ]
  },
  {
   "cell_type": "markdown",
   "metadata": {},
   "source": [
    "Note that the length of the errors bars is the standard-deviation, i.e., the square root of the variances stored in the data.\n",
    "\n",
    "### Multiple lines on the same axes\n",
    "\n",
    "If a dataset contains more than one 1D variable with the same coordinates, they are plotted on the same axes:"
   ]
  },
  {
   "cell_type": "code",
   "execution_count": null,
   "metadata": {},
   "outputs": [],
   "source": [
    "d['Background'] = sc.Variable([Dim.Tof], values=5.0*np.random.rand(N),\n",
    "                              unit=sc.units.m)\n",
    "sc.plot(d)"
   ]
  },
  {
   "cell_type": "markdown",
   "metadata": {},
   "source": [
    "We can always plot just a single item of the dataset:"
   ]
  },
  {
   "cell_type": "code",
   "execution_count": null,
   "metadata": {},
   "outputs": [],
   "source": [
    "sc.plot(d['Background'])"
   ]
  },
  {
   "cell_type": "markdown",
   "metadata": {},
   "source": [
    "### Choosing the line colors\n",
    "\n",
    "Line colors can be changed via the `color` keyword argument:"
   ]
  },
  {
   "cell_type": "code",
   "execution_count": null,
   "metadata": {},
   "outputs": [],
   "source": [
    "sc.plot(d, color=['red', '#30D5F9'])"
   ]
  },
  {
   "cell_type": "markdown",
   "metadata": {},
   "source": [
    "### Histograms\n",
    "Histograms are automatically generated if the coordinate is bin edges:"
   ]
  },
  {
   "cell_type": "code",
   "execution_count": null,
   "metadata": {},
   "outputs": [],
   "source": [
    "d['Histogram'] = sc.Variable([Dim.Tof], values=20.0*np.random.rand(N-1),\n",
    "                             unit=sc.units.counts)\n",
    "sc.plot(d['Histogram'])"
   ]
  },
  {
   "cell_type": "markdown",
   "metadata": {},
   "source": [
    "and with error bars"
   ]
  },
  {
   "cell_type": "code",
   "execution_count": null,
   "metadata": {},
   "outputs": [],
   "source": [
    "d['Histogram'].variances = 5.0*np.random.rand(N-1)\n",
    "sc.plot(d['Histogram'])"
   ]
  },
  {
   "cell_type": "markdown",
   "metadata": {},
   "source": [
    "The histogram color can be customized:"
   ]
  },
  {
   "cell_type": "code",
   "execution_count": null,
   "metadata": {},
   "outputs": [],
   "source": [
    "sc.plot(d['Histogram'], color=\"#000000\")"
   ]
  },
  {
   "cell_type": "markdown",
   "metadata": {},
   "source": [
    "### Multiple datasets\n",
    "\n",
    "`scipp.plot` also suports multiple 1-D datasets:"
   ]
  },
  {
   "cell_type": "code",
   "execution_count": null,
   "metadata": {},
   "outputs": [],
   "source": [
    "other = sc.Dataset()\n",
    "N = 60\n",
    "other.coords[Dim.Tof] = sc.Variable([Dim.Tof],\n",
    "                                    values=np.arange(N).astype(np.float64),\n",
    "                                    unit=sc.units.us)\n",
    "other['OtherSample'] = sc.Variable([Dim.Tof], values=10.0*np.random.rand(N),\n",
    "                                   unit=sc.units.counts)\n",
    "other['OtherNoise'] = sc.Variable([Dim.Tof], values=10.0*np.random.rand(N-1),\n",
    "                                  variances=3.0*np.random.rand(N-1),\n",
    "                                  unit=sc.units.counts)\n",
    "sc.plot([d, other])"
   ]
  },
  {
   "cell_type": "markdown",
   "metadata": {},
   "source": [
    "## Plotting 2-D data\n",
    "\n",
    "### 2-D data as an image\n",
    "\n",
    "2-D variables are plotted as images, with a colormap:"
   ]
  },
  {
   "cell_type": "code",
   "execution_count": null,
   "metadata": {},
   "outputs": [],
   "source": [
    "N = 100\n",
    "M = 50\n",
    "xx = np.arange(N, dtype=np.float64)\n",
    "yy = np.arange(M, dtype=np.float64)\n",
    "x, y = np.meshgrid(xx, yy)\n",
    "b = N/20.0\n",
    "c = M/2.0\n",
    "r = np.sqrt(((x-c)/b)**2 + ((y-c)/b)**2)\n",
    "a = np.sin(r)\n",
    "d1 = sc.Dataset()\n",
    "d1.coords[Dim.X] = sc.Variable([Dim.X], values=xx, unit=sc.units.m)\n",
    "d1.coords[Dim.Y] = sc.Variable([Dim.Y], values=yy, unit=sc.units.m)\n",
    "d1['Signal'] = sc.Variable([Dim.Y, Dim.X], values=a, unit=sc.units.counts)\n",
    "sc.plot(d1)"
   ]
  },
  {
   "cell_type": "markdown",
   "metadata": {},
   "source": [
    "The dimension displayed along each axis of the image can be selected with the `axes` keyword argument which accepts a list of dimensions:"
   ]
  },
  {
   "cell_type": "code",
   "execution_count": null,
   "metadata": {},
   "outputs": [],
   "source": [
    "sc.plot(d1, axes=[Dim.X, Dim.Y])"
   ]
  },
  {
   "cell_type": "markdown",
   "metadata": {},
   "source": [
    "### 2-D data as filled contours\n",
    "\n",
    "Instead of a classical image, we can also used filled contours to display the data:"
   ]
  },
  {
   "cell_type": "code",
   "execution_count": null,
   "metadata": {},
   "outputs": [],
   "source": [
    "sc.plot(d1, contours=True)"
   ]
  },
  {
   "cell_type": "markdown",
   "metadata": {},
   "source": [
    "### 2-D data with variances\n",
    "\n",
    "If variances are present, they are not displayed by default, but they can be shown alongside the data values by using `show_variances=True`:"
   ]
  },
  {
   "cell_type": "code",
   "execution_count": null,
   "metadata": {},
   "outputs": [],
   "source": [
    "d1['Signal'].variances = np.random.rand(M, N)+(x==y)\n",
    "sc.plot(d1, show_variances=True)"
   ]
  },
  {
   "cell_type": "markdown",
   "metadata": {},
   "source": [
    "If interactive plotting is enabled in the `jupyter` notebook (either using the `plotly` backend or running `%matplotlib notebook` at the start of the notebook), zooming on either the values or the variances panel will also update the counterpart panel."
   ]
  },
  {
   "cell_type": "markdown",
   "metadata": {},
   "source": [
    "### Changing the colorscale\n",
    "\n",
    "Changing the colorscale is handled via the `cb` keyword argument which is a dictionary holding different options. The type of colormap is defined by the `name` parameter:"
   ]
  },
  {
   "cell_type": "code",
   "execution_count": null,
   "metadata": {},
   "outputs": [],
   "source": [
    "sc.plot(d1, cb={\"name\": \"jet\"})"
   ]
  },
  {
   "cell_type": "markdown",
   "metadata": {},
   "source": [
    "A logarithmic colorscale is obtained by setting `log` to `True`:"
   ]
  },
  {
   "cell_type": "code",
   "execution_count": null,
   "metadata": {},
   "outputs": [],
   "source": [
    "sc.plot(d1, cb={\"name\": \"RdBu\", \"log\": True})"
   ]
  },
  {
   "cell_type": "markdown",
   "metadata": {},
   "source": [
    "Upper and lower limits on the colorscale can be placed using `min` and `max`:"
   ]
  },
  {
   "cell_type": "code",
   "execution_count": null,
   "metadata": {},
   "outputs": [],
   "source": [
    "sc.plot(d1, cb={\"min\": 0, \"max\": 0.5})"
   ]
  },
  {
   "cell_type": "markdown",
   "metadata": {},
   "source": [
    "And this can also be applied to the variances:"
   ]
  },
  {
   "cell_type": "code",
   "execution_count": null,
   "metadata": {},
   "outputs": [],
   "source": [
    "sc.plot(d1, show_variances=True,\n",
    "        cb={\"min\": 0, \"max\": 0.5, \"min_var\": 1.0, \"max_var\": 1.5})"
   ]
  },
  {
   "cell_type": "markdown",
   "metadata": {},
   "source": [
    "### Collapsing dimensions\n",
    "\n",
    "Sometimes it is useful to collapse one or more of the data's dimensions. This is done by specifying the dimension to be displayed along the x axis as a keyword argument. All other dimensions will be collapsed."
   ]
  },
  {
   "cell_type": "code",
   "execution_count": null,
   "metadata": {},
   "outputs": [],
   "source": [
    "N = 40\n",
    "M = 5\n",
    "d2 = sc.Dataset()\n",
    "d2.coords[Dim.Tof] = sc.Variable([Dim.Tof],\n",
    "                                 values=np.arange(N+1).astype(np.float64),\n",
    "                                 unit=sc.units.us)\n",
    "d2.coords[Dim.X] = sc.Variable([Dim.X], values=np.arange(M).astype(np.float64),\n",
    "                               unit=sc.units.m)\n",
    "d2['sample'] = sc.Variable([Dim.X, Dim.Tof], values=10.0*np.random.rand(M, N),\n",
    "                           variances=np.random.rand(M, N))\n",
    "sc.plot(d2)\n",
    "sc.plot(d2, collapse=Dim.Tof)"
   ]
  },
  {
   "cell_type": "markdown",
   "metadata": {},
   "source": [
    "## Plotting data with 3 and more dimensions\n",
    "\n",
    "Data with 3 or more dimensions are currently represented by a 2-D image, accompanied by sliders to navigate the extra dimensions (one slider per dimension above 2). **Note that this is currently only supported by the plotly backend.**"
   ]
  },
  {
   "cell_type": "code",
   "execution_count": null,
   "metadata": {},
   "outputs": [],
   "source": [
    "N = 50\n",
    "M = 40\n",
    "L = 30\n",
    "K = 20\n",
    "xx = np.arange(N, dtype=np.float64)\n",
    "yy = np.arange(M, dtype=np.float64)\n",
    "zz = np.arange(L, dtype=np.float64)\n",
    "qq = np.arange(K, dtype=np.float64)\n",
    "x, y, z, q = np.meshgrid(xx, yy, zz, qq, indexing='ij')\n",
    "b = N/20.0\n",
    "c = M/2.0\n",
    "d = L/2.0\n",
    "r = np.sqrt(((x-c)/b)**2 + ((y-c)/b)**2 + ((z-d)/b)**2  + ((q-d)/b)**2)\n",
    "a = np.sin(r)\n",
    "d3 = sc.Dataset()\n",
    "d3.coords[Dim.X] = sc.Variable([Dim.X], values=xx)\n",
    "d3.coords[Dim.Y] = sc.Variable([Dim.Y], values=yy)\n",
    "d3.coords[Dim.Z] = sc.Variable([Dim.Z], values=zz)\n",
    "d3.coords[Dim.Qx] = sc.Variable([Dim.Qx], values=qq)\n",
    "d3['Some3Ddata'] = sc.Variable([Dim.X, Dim.Y, Dim.Z, Dim.Qx], values=a)\n",
    "sc.plot(d3, backend=\"plotly\")"
   ]
  },
  {
   "cell_type": "markdown",
   "metadata": {},
   "source": [
    "By default, the two innermost dimensions are used for the image, and the rest will be allocated to a slider. This can be changed by specifying the order of the axes"
   ]
  },
  {
   "cell_type": "code",
   "execution_count": null,
   "metadata": {},
   "outputs": [],
   "source": [
    "sc.plot(d3, axes=[Dim.Z, Dim.Qx, Dim.Y, Dim.X], backend=\"plotly\")"
   ]
  },
  {
   "cell_type": "markdown",
   "metadata": {},
   "source": [
    "## Plotting datasets with mixed data shapes\n",
    "\n",
    "If a dataset contains a mix of variables with different numbers of dimensions, a figure for each type is drawn:"
   ]
  },
  {
   "cell_type": "code",
   "execution_count": null,
   "metadata": {},
   "outputs": [],
   "source": [
    "N = 60\n",
    "M = 5\n",
    "d4 = sc.Dataset()\n",
    "d4.coords[Dim.Tof] = sc.Variable([Dim.Tof],\n",
    "                                 values=np.arange(N).astype(np.float64),\n",
    "                                 unit=sc.units.us)\n",
    "d4['Sample1D'] = sc.Variable([Dim.Tof], values=10.0*np.random.rand(N),\n",
    "                             unit=sc.units.counts)\n",
    "d4['Noise1D'] = sc.Variable([Dim.Tof], values=10.0*np.random.rand(N-1),\n",
    "                            variances=3.0*np.random.rand(N-1),\n",
    "                            unit=sc.units.counts)\n",
    "d4.coords[Dim.X] = sc.Variable([Dim.X], values=np.arange(M).astype(np.float64),\n",
    "                               unit=sc.units.m)\n",
    "d4['Image2D'] = sc.Variable([Dim.X, Dim.Tof], values=10.0*np.random.rand(M, N),\n",
    "                            variances=np.random.rand(M, N))\n",
    "sc.plot(d4)"
   ]
  }
 ],
 "metadata": {
  "kernelspec": {
   "display_name": "Python 3",
   "language": "python",
   "name": "python3"
  },
  "language_info": {
   "codemirror_mode": {
    "name": "ipython",
    "version": 3
   },
   "file_extension": ".py",
   "mimetype": "text/x-python",
   "name": "python",
   "nbconvert_exporter": "python",
   "pygments_lexer": "ipython3",
   "version": "3.7.3"
  }
 },
 "nbformat": 4,
 "nbformat_minor": 2
}
