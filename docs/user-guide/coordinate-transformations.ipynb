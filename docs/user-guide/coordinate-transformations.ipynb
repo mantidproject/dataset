{
 "cells": [
  {
   "cell_type": "markdown",
   "id": "239c7ad4-44b0-4d8f-8dcb-6fa5833abc45",
   "metadata": {},
   "source": [
    "# Coordinate transformations\n",
    "\n",
    "## Motivation\n",
    "\n",
    "In all fields of science we frequently encounter data that is represented in coordinates or coordinate systems that are not apt for certain operations or visualizations.\n",
    "In these cases we may thus need to compute new coordinates based on one or multiple existing coordinates.\n",
    "For simple cases this may just be done by hand.\n",
    "Consider:"
   ]
  },
  {
   "cell_type": "code",
   "execution_count": null,
   "id": "8b11dfb5-f9b9-43aa-8e56-418bcc0489a7",
   "metadata": {},
   "outputs": [],
   "source": [
    "import scipp as sc\n",
    "x = sc.linspace(dim='x', unit='m', start=1., stop=55., num=100)\n",
    "da = sc.DataArray(data=x*x, coords={'x':x})\n",
    "da.plot(figsize=(4,3))"
   ]
  },
  {
   "cell_type": "markdown",
   "id": "43d74a82-1f9c-48e3-a587-2d932288b532",
   "metadata": {},
   "source": [
    "We may want to use $x^2$ instead of $x$ as a coordinate, do highlight the quadratic nature of our data:"
   ]
  },
  {
   "cell_type": "code",
   "execution_count": null,
   "id": "4ad57397-8d6c-46ac-a748-99207697734b",
   "metadata": {},
   "outputs": [],
   "source": [
    "da2 = da.copy()\n",
    "da2.coords['x_square'] = x * x\n",
    "da2"
   ]
  },
  {
   "cell_type": "markdown",
   "id": "15677625-8898-40c7-a3fd-2d0c4395d612",
   "metadata": {},
   "source": [
    "While adding a new coordinate may often be done with a single line of code, the above example highlights the first shortcoming of this approach:\n",
    "To actually visualize `da` using this new coordinate we must additionally rename the dimension:"
   ]
  },
  {
   "cell_type": "code",
   "execution_count": null,
   "id": "7b222310-40d6-4b95-92dd-9c2e7b7bcb63",
   "metadata": {},
   "outputs": [],
   "source": [
    "da2 = da2.rename_dims({'x':'x_square'})\n",
    "da2.plot(figsize=(4,3))"
   ]
  },
  {
   "cell_type": "markdown",
   "id": "f7b31e14-10cc-4616-8cc6-f369a99357e8",
   "metadata": {},
   "source": [
    "Further complications are:\n",
    "- The original coordinate is preserved and may get in the way in subsequent operations.\n",
    "- Event-coordinates of binned data are not handled.\n",
    "- Multi-step conversions with multiple inputs and multiple outputs may be required in practice.\n",
    "\n",
    "To accommodate these reoccuring yet highly application-specific needs, scipp provides a generic mechanism for transforming coordinates.\n",
    "This is described and examplified in the following.\n",
    "\n",
    "## `transform_coords`\n",
    "\n",
    "[sc.transform_coords](../generated/functions/scipp.transform_coords.rst#scipp.transform_coords) (also available as method of data arrays and dataset) is a tool for transforming one or more input coordinates into one or more output coordinates.\n",
    "It automatically handles:\n",
    "- Renaming of dimensions, if dimension-coordinates are transformed.\n",
    "- Change of coordinates to attributes to avoid interference of coordinates consumed by the transformation in follow-up operations.\n",
    "- Conversion of event-coordinates of binned data, if present.\n",
    "\n",
    "### Basic example\n",
    "\n",
    "We start by revisiting the example given in [Motivation](#Motivation).\n",
    "The building blocks `transform_coords` operates on are functions with named parameters.\n",
    "The parameter names define the names of the *input coordinates to consume*.\n",
    "Let us define `x_square`, which will *consume* `x`:"
   ]
  },
  {
   "cell_type": "code",
   "execution_count": null,
   "id": "be50be41-9486-4943-99da-99653639ea98",
   "metadata": {},
   "outputs": [],
   "source": [
    "def x_square(x):\n",
    "    return x * x"
   ]
  },
  {
   "cell_type": "markdown",
   "id": "f22ec1c0-ad99-418b-820a-a6dad6fb82aa",
   "metadata": {},
   "source": [
    "Next, we create a `dict`, mapping from an output coord name to a function that can create this coordinate.\n",
    "The [sc.show_graph](../generated/functions/scipp.show_graph.rst#scipp.show_graph) helper is a convient tool for visualizing the coordinate transformation defined by such as mapping:"
   ]
  },
  {
   "cell_type": "code",
   "execution_count": null,
   "id": "33f5e9ef-35a8-49e6-9731-8b33a525c8fb",
   "metadata": {},
   "outputs": [],
   "source": [
    "graph = {'x^2':x_square}\n",
    "sc.show_graph(graph)"
   ]
  },
  {
   "cell_type": "markdown",
   "id": "a658c4ce-ab11-41ed-84c5-af8df71838ab",
   "metadata": {},
   "source": [
    "Here, the `x` coordinate can be consumed by the `x_square` function, creating the `x^2` coordinate.\n",
    "Note that the function name and coordinate are unrelated.\n",
    "Next, we can call `transform_coords`.\n",
    "Apart from the graph, we also pass a list of desired output coordinates, here simply `['x^2']`.\n",
    "`transform_coords` returns a new (shallow-copied) data array with added coordinates:"
   ]
  },
  {
   "cell_type": "code",
   "execution_count": null,
   "id": "ba462ced-c928-4f02-b60d-af8a602c03dd",
   "metadata": {},
   "outputs": [],
   "source": [
    "transformed = da.transform_coords(['x^2'], graph=graph)\n",
    "transformed"
   ]
  },
  {
   "cell_type": "markdown",
   "id": "ab752aee-f2d7-4cae-8c7a-b33a2f7e8033",
   "metadata": {},
   "source": [
    "Note how `x` is now an attribute, i.e., operations will not use it for alignment anymore.\n",
    "This is important since it will allow for operations combining `transformated` with other data that may have matching `x^2` but not `x`.\n",
    "\n",
    "### Example: Multi-step transform splitting and combining input coords"
   ]
  },
  {
   "cell_type": "code",
   "execution_count": null,
   "id": "833948c5-4657-43a7-bf38-46c385bd7e26",
   "metadata": {},
   "outputs": [],
   "source": [
    "import scipp as sc\n",
    "import numpy as np\n",
    "hour_steps = sc.arange(dim='timestamp', dtype='int64', unit='s', start=0, stop=3*24*60*60, step=60*60)\n",
    "start = sc.scalar(np.datetime64('2021-01-01T17:00:00'))\n",
    "datetime = start + hour_steps\n",
    "\n",
    "nsite = 1000\n",
    "ntime = len(datetime)\n",
    "# Note that these points are *note* uniformely distributed on a shpere, this is NOT a good way to\n",
    "# generate such points\n",
    "site = sc.vectors(dims=['cartesian'], values=np.random.rand(nsite, 3)) - sc.vector(value=[.5,.5,.5])\n",
    "site /= sc.norm(site)\n",
    "site *= 6.371 * sc.Unit('km')\n",
    "site\n",
    "da = sc.DataArray(\n",
    "    data=sc.array(dims=['cartesian','timestamp'], values=np.random.rand(nsite, ntime)),\n",
    "    coords={'cartesian':site, 'timestamp':datetime}\n",
    ")\n",
    "da += 2. * (site.fields.z > 0. * sc.Unit('km')).astype('float64')  # more lightning strikes in norther hemisphere\n",
    "\n",
    "phi0 = sc.atan2(y=site.fields.y, x=site.fields.x) - sc.to_unit(90.0 * sc.Unit('deg'), 'rad')\n",
    "sin = sc.sin(phi0+sc.linspace(dim='timestamp', unit='rad', start=0, stop=6*np.pi, num=ntime))\n",
    "(sin+1).plot()\n",
    "da += 2*(sin+1)\n",
    "da"
   ]
  },
  {
   "cell_type": "code",
   "execution_count": null,
   "id": "757be4c3-8efc-4550-89e4-231cb53d0230",
   "metadata": {},
   "outputs": [],
   "source": [
    "da.plot(projection='3d', positions=site)"
   ]
  },
  {
   "cell_type": "code",
   "execution_count": null,
   "id": "b175bf2f-4543-4c5a-84cf-6e96d3a36f96",
   "metadata": {},
   "outputs": [],
   "source": [
    "def lat_long(cartesian):\n",
    "    x = cartesian.fields.x\n",
    "    y = cartesian.fields.y\n",
    "    z = cartesian.fields.z\n",
    "    theta = sc.atan2(y=sc.sqrt(x*x+y*y), x=z)\n",
    "    phi = sc.atan2(y=y, x=x)\n",
    "    return {'lattitude':theta, 'longitude':phi}\n",
    "\n",
    "def time(datetime):\n",
    "    seconds_per_day = sc.scalar(24*60*60, unit='s/D')\n",
    "    start_day = sc.scalar(start.value.astype('datetime64[D]'))\n",
    "    start_day_in_seconds = sc.scalar(start_day.values.astype('datetime64[s]'))\n",
    "    offset = datetime - start_day_in_seconds\n",
    "    time = (offset % seconds_per_day).astype('float64')\n",
    "    return time\n",
    "    \n",
    "def timezone_offset(longitude):\n",
    "    long = sc.to_unit(longitude, unit='deg', copy=False)\n",
    "    return (long / (15.0 * sc.Unit('deg/hour'))).astype('int64') + 12 * sc.Unit('hour')\n",
    "\n",
    "def local_time(timestamp, timezone_offset):\n",
    "    return time(sc.to_unit(timezone_offset, timestamp.unit) + timestamp)"
   ]
  },
  {
   "cell_type": "code",
   "execution_count": null,
   "id": "29d7aba1-b9de-4fe9-83c9-0b4d7a49df98",
   "metadata": {},
   "outputs": [],
   "source": [
    "graph = {'timezone_offset':timezone_offset,\n",
    "         ('lattitude','longitude'):lat_long,\n",
    "         'time':local_time\n",
    "        }\n",
    "sc.show_graph(graph)"
   ]
  },
  {
   "cell_type": "code",
   "execution_count": null,
   "id": "5bf94a81-e4b7-404c-854b-223fa2986c4b",
   "metadata": {},
   "outputs": [],
   "source": [
    "da.transform_coords(['lattitude'], graph=graph)"
   ]
  },
  {
   "cell_type": "code",
   "execution_count": null,
   "id": "d6c9b988-0ba9-4d52-9883-4723137de53d",
   "metadata": {},
   "outputs": [],
   "source": [
    "da.transform_coords(['lattitude', 'longitude'], graph=graph)"
   ]
  },
  {
   "cell_type": "code",
   "execution_count": null,
   "id": "e93519b7-f668-4424-8257-c72561a0e7c2",
   "metadata": {},
   "outputs": [],
   "source": [
    "out = da.transform_coords(['time', 'longitude', 'lattitude'], graph=graph)\n",
    "out"
   ]
  },
  {
   "cell_type": "code",
   "execution_count": null,
   "id": "594b4762-c86b-410c-a43e-282524b15b34",
   "metadata": {},
   "outputs": [],
   "source": [
    "time_edges = sc.linspace(dim='time', unit='s', start=0, stop=24*60*60, num=6)\n",
    "# TODO deg\n",
    "lattitude = sc.linspace(dim='lattitude', unit='rad', start=0, stop=np.pi, num=13)\n",
    "longitude = sc.linspace(dim='longitude', unit='rad', start=-np.pi, stop=np.pi, num=13)\n",
    "sc.bin(out.flatten(to='dummy'), edges=[lattitude, longitude, time_edges]).transpose().plot(resolution=12)\n",
    "#sc.histogram(out, bins=time_edges).plot()"
   ]
  },
  {
   "cell_type": "code",
   "execution_count": null,
   "id": "a3a608f5-096e-404b-a9dc-5be762dff437",
   "metadata": {},
   "outputs": [],
   "source": []
  },
  {
   "cell_type": "code",
   "execution_count": null,
   "id": "f75251e8-d672-496b-8e5f-4e9a07a1e8c6",
   "metadata": {},
   "outputs": [],
   "source": [
    "def date_and_time(datetime):\n",
    "    seconds_per_day = sc.scalar(24*60*60, unit='s/D')\n",
    "    start_day = sc.scalar(start.value.astype('datetime64[D]'))\n",
    "    start_day_in_seconds = sc.scalar(start_day.values.astype('datetime64[s]'))\n",
    "    offset = datetime - start_day_in_seconds\n",
    "    time = (offset % seconds_per_day).astype('float64')\n",
    "    #date = start_day + offset // seconds_per_day\n",
    "    date = offset // seconds_per_day\n",
    "    return {'date':date, 'time':time}"
   ]
  },
  {
   "cell_type": "code",
   "execution_count": null,
   "id": "9af8d6ea-d953-493b-b95c-807599ba8d22",
   "metadata": {},
   "outputs": [],
   "source": [
    "graph = {('date', 'time'):date_and_time}\n",
    "sc.show_graph(graph)"
   ]
  }
 ],
 "metadata": {
  "kernelspec": {
   "display_name": "Python 3",
   "language": "python",
   "name": "python3"
  },
  "language_info": {
   "codemirror_mode": {
    "name": "ipython",
    "version": 3
   },
   "file_extension": ".py",
   "mimetype": "text/x-python",
   "name": "python",
   "nbconvert_exporter": "python",
   "pygments_lexer": "ipython3",
   "version": "3.7.10"
  }
 },
 "nbformat": 4,
 "nbformat_minor": 5
}
