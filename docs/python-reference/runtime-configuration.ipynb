{
 "cells": [
  {
   "cell_type": "markdown",
   "metadata": {
    "tags": []
   },
   "source": [
    "# Runtime Configuration\n",
    "\n",
    "The `scipp` Python module supports several configuration options which may be set based on preference. Most of these are related to layout of items in Jupyter Notebooks and plotting.\n",
    "\n",
    "The location of the configuration file varies between operating systems. To determine where it is located on a particular installation the following Python may be used:"
   ]
  },
  {
   "cell_type": "code",
   "execution_count": null,
   "metadata": {},
   "outputs": [],
   "source": [
    "import scipp as sc\n",
    "print(sc.user_configuration_filename)"
   ]
  },
  {
   "cell_type": "markdown",
   "metadata": {
    "tags": []
   },
   "source": [
    "When the `scipp` module is imported and no configuiration file exists a default one is created. If a configuration file already exists it will not be modified, i.e. new options will not automatically be added to it when Scipp is updated.\n",
    "\n",
    "The fields in the configuration file are not strictly defined and may vary between Scipp versions. For this reason it is advised to browse this file to determine what options are available.\n",
    "\n",
    "Values may be set via Python as follows:"
   ]
  },
  {
   "cell_type": "code",
   "execution_count": null,
   "metadata": {},
   "outputs": [],
   "source": [
    "print('Old value:', sc.config.plot.width)\n",
    "sc.config.update({'plot.width': 300})\n",
    "print('New value:', sc.config.plot.width)"
   ]
  },
  {
   "cell_type": "markdown",
   "metadata": {
    "tags": []
   },
   "source": [
    "Note that changes made via the Python API are not persisted in the configuration file.\n",
    "Permanent changes must be made to the file directly."
   ]
  }
 ],
 "metadata": {
  "kernelspec": {
   "display_name": "Python 3",
   "language": "python",
   "name": "python3"
  },
  "language_info": {
   "codemirror_mode": {
    "name": "ipython",
    "version": 3
   },
   "file_extension": ".py",
   "mimetype": "text/x-python",
   "name": "python",
   "nbconvert_exporter": "python",
   "pygments_lexer": "ipython3",
   "version": "3.6.9"
  },
  "widgets": ""
 },
 "nbformat": 4,
 "nbformat_minor": 4
}
