{
 "cells": [
  {
   "cell_type": "markdown",
   "metadata": {},
   "source": [
    "# Quick start\n",
    "\n",
    "This section provides a quick introduction to `scipp`.\n",
    "For in depth explanations refer to the sections in the user guide."
   ]
  },
  {
   "cell_type": "code",
   "execution_count": null,
   "metadata": {},
   "outputs": [],
   "source": [
    "import numpy as np\n",
    "import scipp as sc\n",
    "from scipp import Dim"
   ]
  },
  {
   "cell_type": "markdown",
   "metadata": {},
   "source": [
    "We start by creating some variables:"
   ]
  },
  {
   "cell_type": "code",
   "execution_count": null,
   "metadata": {},
   "outputs": [],
   "source": [
    "var = sc.Variable(dims=[Dim.Y, Dim.X], values=np.random.rand(4,5))\n",
    "sc.show(var)\n",
    "print(var)"
   ]
  },
  {
   "cell_type": "code",
   "execution_count": null,
   "metadata": {},
   "outputs": [],
   "source": [
    "x = sc.Variable(dims=[Dim.X], values=np.arange(5), unit=sc.units.m)\n",
    "y = sc.Variable(dims=[Dim.Y], values=np.arange(4), unit=sc.units.m)"
   ]
  },
  {
   "cell_type": "markdown",
   "metadata": {},
   "source": [
    "We combine the variables into a data array:"
   ]
  },
  {
   "cell_type": "code",
   "execution_count": null,
   "metadata": {
    "scrolled": true
   },
   "outputs": [],
   "source": [
    "array = sc.DataArray(\n",
    "    data=var,\n",
    "    coords={Dim.X: x, Dim.Y: y})\n",
    "sc.show(array)\n",
    "print(array)\n",
    "print(array.values)"
   ]
  },
  {
   "cell_type": "markdown",
   "metadata": {},
   "source": [
    "Variables can have uncertainties.\n",
    "Scipp stores these as variances (the square of the standard deviation):"
   ]
  },
  {
   "cell_type": "code",
   "execution_count": null,
   "metadata": {},
   "outputs": [],
   "source": [
    "array.variances = np.square(np.random.rand(4,5))\n",
    "sc.show(array)"
   ]
  },
  {
   "cell_type": "markdown",
   "metadata": {},
   "source": [
    "We create a dataset:"
   ]
  },
  {
   "cell_type": "code",
   "execution_count": null,
   "metadata": {},
   "outputs": [],
   "source": [
    "dataset = sc.Dataset(\n",
    "    {'a': var},\n",
    "    coords={Dim.X: x, Dim.Y: y},\n",
    "    labels={'aux' : x})\n",
    "dataset['b'] = array\n",
    "dataset['scalar'] = 1.23 * (sc.units.m / sc.units.s)\n",
    "sc.show(dataset)"
   ]
  },
  {
   "cell_type": "markdown",
   "metadata": {},
   "source": [
    "We can slice variables, data arrays, and datasets using a dimension label and an index or a slice object like `i:j`:"
   ]
  },
  {
   "cell_type": "code",
   "execution_count": null,
   "metadata": {
    "scrolled": false
   },
   "outputs": [],
   "source": [
    "dataset['c'] = dataset['b'][Dim.X, 2]\n",
    "sc.show(dataset)"
   ]
  },
  {
   "cell_type": "markdown",
   "metadata": {},
   "source": [
    "We can also generate table representations (only 0-D and 1-D) and plots:"
   ]
  },
  {
   "cell_type": "code",
   "execution_count": null,
   "metadata": {},
   "outputs": [],
   "source": [
    "sc.table(dataset[Dim.Y, 2])"
   ]
  },
  {
   "cell_type": "code",
   "execution_count": null,
   "metadata": {
    "scrolled": false
   },
   "outputs": [],
   "source": [
    "sc.plot(dataset, backend='matplotlib')"
   ]
  },
  {
   "cell_type": "markdown",
   "metadata": {},
   "source": [
    "Arithmetic operations can be combined with slicing and handle propagation of uncertainties and units:"
   ]
  },
  {
   "cell_type": "code",
   "execution_count": null,
   "metadata": {},
   "outputs": [],
   "source": [
    "print(dataset)"
   ]
  },
  {
   "cell_type": "code",
   "execution_count": null,
   "metadata": {},
   "outputs": [],
   "source": [
    "dataset['b'][Dim.Y, 0:2] -= dataset[Dim.Y, 0:2]['a'][Dim.X, 0]\n",
    "dataset['b'] *= dataset['scalar']\n",
    "print(dataset)"
   ]
  }
 ],
 "metadata": {
  "kernelspec": {
   "display_name": "Python 3",
   "language": "python",
   "name": "python3"
  },
  "language_info": {
   "codemirror_mode": {
    "name": "ipython",
    "version": 3
   },
   "file_extension": ".py",
   "mimetype": "text/x-python",
   "name": "python",
   "nbconvert_exporter": "python",
   "pygments_lexer": "ipython3",
   "version": "3.6.7"
  }
 },
 "nbformat": 4,
 "nbformat_minor": 2
}
