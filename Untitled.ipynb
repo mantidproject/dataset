{
 "cells": [
  {
   "cell_type": "code",
   "execution_count": 1,
   "id": "a085f03e-e268-4a7e-9779-149fecfb09bc",
   "metadata": {},
   "outputs": [
    {
     "name": "stderr",
     "output_type": "stream",
     "text": [
      "You are running a \"Debug\" build of scipp. For optimal performance use a \"Release\" build.\n"
     ]
    }
   ],
   "source": [
    "import scipp as sc\n",
    "import numpy as np"
   ]
  },
  {
   "cell_type": "code",
   "execution_count": 2,
   "id": "71edd15d-cbe8-47ae-ac5e-36b9991fba3a",
   "metadata": {},
   "outputs": [
    {
     "name": "stdout",
     "output_type": "stream",
     "text": [
      "Help on function histogram in module scipp._bins:\n",
      "\n",
      "histogram(x: Union[scipp._scipp.core.DataArray, scipp._scipp.core.Dataset], bins)\n",
      "    Create dense data by histogramming data along all dimension given by\n",
      "    edges.\n",
      "    \n",
      "    :return: DataArray with values equal to the sum of values in each given\n",
      "             bin.\n",
      "    :seealso: :py:func:`scipp.bin` for binning data.\n",
      "\n"
     ]
    }
   ],
   "source": [
    "help(sc.histogram)"
   ]
  },
  {
   "cell_type": "code",
   "execution_count": null,
   "id": "0a83e09b-17e7-4b17-a4e8-338f9209e629",
   "metadata": {},
   "outputs": [],
   "source": []
  },
  {
   "cell_type": "code",
   "execution_count": 15,
   "id": "fa21f549-1971-4114-a253-01c5915a5d78",
   "metadata": {},
   "outputs": [],
   "source": [
    "x = np.random.normal(0, 1, 100)\n",
    "v = sc.array(dims=['x'], values=x**2)\n",
    "da = sc.DataArray(v, coords={'x': sc.array(dims=['x'], values=x)})"
   ]
  },
  {
   "cell_type": "code",
   "execution_count": 16,
   "id": "effdde41-9ff5-4169-88dc-734145192b6c",
   "metadata": {},
   "outputs": [
    {
     "data": {
      "application/vnd.jupyter.widget-view+json": {
       "model_id": "4c53c4432a1041659f57cbb46d8c8189",
       "version_major": 2,
       "version_minor": 0
      },
      "text/plain": [
       "VBox(children=(HBox(children=(VBox(children=(Button(icon='home', layout=Layout(padding='0px 0px 0px 0px', widt…"
      ]
     },
     "metadata": {},
     "output_type": "display_data"
    }
   ],
   "source": [
    "sc.histogram(da, sc.linspace('x', -5.0, 5.0, 10)).plot()"
   ]
  },
  {
   "cell_type": "code",
   "execution_count": null,
   "id": "1c5fda36-f0f3-46cc-882b-961cfd756323",
   "metadata": {},
   "outputs": [],
   "source": []
  }
 ],
 "metadata": {
  "kernelspec": {
   "display_name": "scipp-py",
   "language": "python",
   "name": "scipp-py"
  },
  "language_info": {
   "codemirror_mode": {
    "name": "ipython",
    "version": 3
   },
   "file_extension": ".py",
   "mimetype": "text/x-python",
   "name": "python",
   "nbconvert_exporter": "python",
   "pygments_lexer": "ipython3",
   "version": "3.9.4"
  }
 },
 "nbformat": 4,
 "nbformat_minor": 5
}
